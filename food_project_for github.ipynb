{
 "cells": [
  {
   "cell_type": "markdown",
   "metadata": {},
   "source": [
    "**Food Choices and Preferences of College Students**\n",
    "\n",
    "Analyzing the Food Choices and Preferences of College Students dataset as one of my first data analyst project. My aim is to demonstrate the following skills: Data cleaning, organising, transformation and analysis."
   ]
  },
  {
   "cell_type": "markdown",
   "metadata": {},
   "source": [
    "**About Data**\n",
    "\n",
    "This dataset includes information on food choices, nutrition, preferences, childhood favourites, and other information from college students. There are 126 responses from students of Mercyhurst University. Data is raw and uncleaned."
   ]
  },
  {
   "cell_type": "markdown",
   "metadata": {},
   "source": [
    "**Project Goal**\n",
    "\n",
    "There are 3 questions we would like to focus on:\n",
    "\n",
    "- Question 1: Does exercising regularly affect weight of an individual?\n",
    "- Question 2: Does factors such as: Employment, Income, and Living on or off campus affect the frequency of eating out for college students?\n",
    "- Question 3: Does students who exercise regularly more likely to make better food choices?"
   ]
  },
  {
   "cell_type": "markdown",
   "metadata": {},
   "source": [
    "Step 1: Getting to Know the Dataset"
   ]
  },
  {
   "cell_type": "code",
   "execution_count": 142,
   "metadata": {},
   "outputs": [],
   "source": [
    "import pandas as pd\n",
    "import numpy as np\n",
    "import missingno as msno\n",
    "import seaborn as sns\n",
    "import matplotlib.pyplot as plt\n",
    "from numpy import median\n",
    "import altair as alt \n",
    "import altair_viewer\n",
    "from scipy.stats import chi2_contingency"
   ]
  },
  {
   "cell_type": "code",
   "execution_count": 143,
   "metadata": {},
   "outputs": [
    {
     "name": "stdout",
     "output_type": "stream",
     "text": [
      "(125, 61)\n",
      "GPA                  object\n",
      "Gender                int64\n",
      "breakfast             int64\n",
      "calories_chicken      int64\n",
      "calories_day        float64\n",
      "                     ...   \n",
      "type_sports          object\n",
      "veggies_day           int64\n",
      "vitamins              int64\n",
      "waffle_calories       int64\n",
      "weight               object\n",
      "Length: 61, dtype: object\n",
      "['Gender' 'breakfast' 'calories_chicken' 'calories_day' 'calories_scone'\n",
      " 'coffee' 'comfort_food_reasons_coded' 'cook'\n",
      " 'comfort_food_reasons_coded.1' 'cuisine' 'diet_current_coded' 'drink'\n",
      " 'eating_changes_coded' 'eating_changes_coded1' 'eating_out' 'employment'\n",
      " 'ethnic_food' 'exercise' 'father_education' 'fav_cuisine_coded'\n",
      " 'fav_food' 'fries' 'fruit_day' 'grade_level' 'greek_food'\n",
      " 'healthy_feeling' 'ideal_diet_coded' 'income' 'indian_food'\n",
      " 'italian_food' 'life_rewarding' 'marital_status' 'mother_education'\n",
      " 'nutritional_check' 'on_off_campus' 'parents_cook' 'pay_meal_out'\n",
      " 'persian_food' 'self_perception_weight' 'soup' 'sports' 'thai_food'\n",
      " 'tortilla_calories' 'turkey_calories' 'veggies_day' 'vitamins'\n",
      " 'waffle_calories']\n",
      "['GPA' 'comfort_food' 'comfort_food_reasons' 'diet_current'\n",
      " 'eating_changes' 'father_profession' 'fav_cuisine' 'food_childhood'\n",
      " 'healthy_meal' 'ideal_diet' 'meals_dinner_friend' 'mother_profession'\n",
      " 'type_sports' 'weight']\n"
     ]
    }
   ],
   "source": [
    "# read the data\n",
    "df = pd.read_csv('C:/Users/raffa/Downloads/food_coded.csv')\n",
    "\n",
    "# shape and data types of the data\n",
    "print(df.shape)\n",
    "print(df.dtypes)\n",
    "\n",
    "# select numeric columns\n",
    "df_numeric = df.select_dtypes(include=[np.number])\n",
    "numeric_cols = df_numeric.columns.values\n",
    "print(numeric_cols)\n",
    "\n",
    "# select non numeric columns\n",
    "df_non_numeric = df.select_dtypes(exclude=[np.number])\n",
    "non_numeric_cols = df_non_numeric.columns.values\n",
    "print(non_numeric_cols)"
   ]
  },
  {
   "cell_type": "markdown",
   "metadata": {},
   "source": [
    "Step 2 Data Transformation & Cleaning\n"
   ]
  },
  {
   "cell_type": "markdown",
   "metadata": {},
   "source": [
    "In order to answer to our questions, we will select only some relevant columns and create 3 specific dataframes."
   ]
  },
  {
   "cell_type": "code",
   "execution_count": 144,
   "metadata": {},
   "outputs": [
    {
     "data": {
      "text/html": [
       "<div>\n",
       "<style scoped>\n",
       "    .dataframe tbody tr th:only-of-type {\n",
       "        vertical-align: middle;\n",
       "    }\n",
       "\n",
       "    .dataframe tbody tr th {\n",
       "        vertical-align: top;\n",
       "    }\n",
       "\n",
       "    .dataframe thead th {\n",
       "        text-align: right;\n",
       "    }\n",
       "</style>\n",
       "<table border=\"1\" class=\"dataframe\">\n",
       "  <thead>\n",
       "    <tr style=\"text-align: right;\">\n",
       "      <th></th>\n",
       "      <th>Gender</th>\n",
       "      <th>exercise</th>\n",
       "      <th>weight</th>\n",
       "      <th>eating_out</th>\n",
       "      <th>employment</th>\n",
       "      <th>income</th>\n",
       "      <th>on_off_campus</th>\n",
       "      <th>nutritional_check</th>\n",
       "      <th>veggies_day</th>\n",
       "      <th>fruit_day</th>\n",
       "    </tr>\n",
       "  </thead>\n",
       "  <tbody>\n",
       "    <tr>\n",
       "      <th>0</th>\n",
       "      <td>2</td>\n",
       "      <td>1.0</td>\n",
       "      <td>187</td>\n",
       "      <td>3</td>\n",
       "      <td>3.0</td>\n",
       "      <td>5.0</td>\n",
       "      <td>1.0</td>\n",
       "      <td>5</td>\n",
       "      <td>5</td>\n",
       "      <td>5</td>\n",
       "    </tr>\n",
       "    <tr>\n",
       "      <th>1</th>\n",
       "      <td>1</td>\n",
       "      <td>1.0</td>\n",
       "      <td>155</td>\n",
       "      <td>2</td>\n",
       "      <td>2.0</td>\n",
       "      <td>4.0</td>\n",
       "      <td>1.0</td>\n",
       "      <td>4</td>\n",
       "      <td>4</td>\n",
       "      <td>4</td>\n",
       "    </tr>\n",
       "    <tr>\n",
       "      <th>2</th>\n",
       "      <td>1</td>\n",
       "      <td>2.0</td>\n",
       "      <td>I'm not answering this.</td>\n",
       "      <td>2</td>\n",
       "      <td>3.0</td>\n",
       "      <td>6.0</td>\n",
       "      <td>2.0</td>\n",
       "      <td>4</td>\n",
       "      <td>5</td>\n",
       "      <td>5</td>\n",
       "    </tr>\n",
       "    <tr>\n",
       "      <th>3</th>\n",
       "      <td>1</td>\n",
       "      <td>3.0</td>\n",
       "      <td>Not sure, 240</td>\n",
       "      <td>2</td>\n",
       "      <td>3.0</td>\n",
       "      <td>6.0</td>\n",
       "      <td>1.0</td>\n",
       "      <td>2</td>\n",
       "      <td>3</td>\n",
       "      <td>4</td>\n",
       "    </tr>\n",
       "    <tr>\n",
       "      <th>4</th>\n",
       "      <td>1</td>\n",
       "      <td>1.0</td>\n",
       "      <td>190</td>\n",
       "      <td>2</td>\n",
       "      <td>2.0</td>\n",
       "      <td>6.0</td>\n",
       "      <td>1.0</td>\n",
       "      <td>3</td>\n",
       "      <td>4</td>\n",
       "      <td>4</td>\n",
       "    </tr>\n",
       "  </tbody>\n",
       "</table>\n",
       "</div>"
      ],
      "text/plain": [
       "   Gender  exercise                    weight  eating_out  employment  income  \\\n",
       "0       2       1.0                       187           3         3.0     5.0   \n",
       "1       1       1.0                       155           2         2.0     4.0   \n",
       "2       1       2.0  I'm not answering this.            2         3.0     6.0   \n",
       "3       1       3.0             Not sure, 240           2         3.0     6.0   \n",
       "4       1       1.0                       190           2         2.0     6.0   \n",
       "\n",
       "   on_off_campus  nutritional_check  veggies_day  fruit_day  \n",
       "0            1.0                  5            5          5  \n",
       "1            1.0                  4            4          4  \n",
       "2            2.0                  4            5          5  \n",
       "3            1.0                  2            3          4  \n",
       "4            1.0                  3            4          4  "
      ]
     },
     "execution_count": 144,
     "metadata": {},
     "output_type": "execute_result"
    }
   ],
   "source": [
    "#select only the coloumns we need:\n",
    "df = df[['Gender', 'exercise', 'weight', 'eating_out', 'employment', 'income', 'on_off_campus', 'nutritional_check','veggies_day', 'fruit_day']]\n",
    "df.head()"
   ]
  },
  {
   "cell_type": "markdown",
   "metadata": {},
   "source": [
    "Question 1 - Does exercising regularly affect weight of an individual?"
   ]
  },
  {
   "cell_type": "code",
   "execution_count": 145,
   "metadata": {},
   "outputs": [],
   "source": [
    "#Question 1\n",
    "df_q1 = df[['Gender', 'exercise', 'weight']]"
   ]
  },
  {
   "cell_type": "code",
   "execution_count": 146,
   "metadata": {},
   "outputs": [
    {
     "data": {
      "text/plain": [
       "<Axes: >"
      ]
     },
     "execution_count": 146,
     "metadata": {},
     "output_type": "execute_result"
    },
    {
     "data": {
      "image/png": "[encoded data removed]",
      "text/plain": [
       "<Figure size 2500x1000 with 2 Axes>"
      ]
     },
     "metadata": {},
     "output_type": "display_data"
    }
   ],
   "source": [
    "#identify the NaN distribution\n",
    "msno.matrix(df_q1[df_q1.columns[df_q1.isnull().any()]])"
   ]
  },
  {
   "cell_type": "code",
   "execution_count": 147,
   "metadata": {},
   "outputs": [
    {
     "name": "stdout",
     "output_type": "stream",
     "text": [
      "exercise    13\n",
      "weight       2\n",
      "dtype: int64\n"
     ]
    }
   ],
   "source": [
    "# Filter and print only columns with at least one null value\n",
    "null_value = df_q1.isnull().sum()\n",
    "null_value_1 = null_value[null_value > 0]\n",
    "print(null_value_1)"
   ]
  },
  {
   "cell_type": "code",
   "execution_count": 148,
   "metadata": {},
   "outputs": [],
   "source": [
    "# drop all the rows that have at least one Nan value\n",
    "df_q1 = df_q1.copy()\n",
    "df_q1.dropna(inplace=True)"
   ]
  },
  {
   "cell_type": "code",
   "execution_count": 149,
   "metadata": {},
   "outputs": [
    {
     "data": {
      "text/plain": [
       "exercise\n",
       "1.0    57\n",
       "2.0    43\n",
       "3.0    11\n",
       "Name: count, dtype: int64"
      ]
     },
     "execution_count": 149,
     "metadata": {},
     "output_type": "execute_result"
    }
   ],
   "source": [
    "#Count unique values, dropna=False includes NaN. \n",
    "df_q1.exercise.value_counts(dropna=False)"
   ]
  },
  {
   "cell_type": "code",
   "execution_count": 150,
   "metadata": {},
   "outputs": [
    {
     "data": {
      "text/plain": [
       "weight\n",
       "140                         8\n",
       "170                         7\n",
       "150                         7\n",
       "135                         7\n",
       "185                         6\n",
       "175                         6\n",
       "190                         5\n",
       "180                         5\n",
       "155                         5\n",
       "165                         4\n",
       "145                         4\n",
       "200                         4\n",
       "130                         4\n",
       "125                         4\n",
       "160                         3\n",
       "120                         3\n",
       "129                         2\n",
       "210                         2\n",
       "128                         2\n",
       "167                         2\n",
       "112                         1\n",
       "144 lbs                     1\n",
       "169                         1\n",
       "260                         1\n",
       "118                         1\n",
       "192                         1\n",
       "184                         1\n",
       "138                         1\n",
       "187                         1\n",
       "168                         1\n",
       "205                         1\n",
       "115                         1\n",
       "195                         1\n",
       "123                         1\n",
       "264                         1\n",
       "110                         1\n",
       "116                         1\n",
       "137                         1\n",
       "Not sure, 240               1\n",
       "I'm not answering this.     1\n",
       "156                         1\n",
       "Name: count, dtype: int64"
      ]
     },
     "execution_count": 150,
     "metadata": {},
     "output_type": "execute_result"
    }
   ],
   "source": [
    "#Count unique values. \n",
    "df_q1.weight.value_counts(dropna=False)"
   ]
  },
  {
   "cell_type": "code",
   "execution_count": 151,
   "metadata": {},
   "outputs": [
    {
     "name": "stdout",
     "output_type": "stream",
     "text": [
      "<class 'pandas.core.frame.DataFrame'>\n",
      "Index: 110 entries, 0 to 124\n",
      "Data columns (total 3 columns):\n",
      " #   Column    Non-Null Count  Dtype  \n",
      "---  ------    --------------  -----  \n",
      " 0   Gender    110 non-null    int64  \n",
      " 1   exercise  110 non-null    float64\n",
      " 2   weight    110 non-null    object \n",
      "dtypes: float64(1), int64(1), object(1)\n",
      "memory usage: 3.4+ KB\n"
     ]
    }
   ],
   "source": [
    "df_q1['weight'] = df_q1['weight'].astype(str)\n",
    "df_q1.loc[df_q1['weight'] == \"144 lbs\", 'weight'] = \"144\"\n",
    "df_q1.loc[df_q1['weight'] == \"Not sure, 240\", 'weight'] = \"240\"\n",
    "df_q1 = df_q1[df_q1['weight'].str.strip() != \"I'm not answering this.\"]\n",
    "df_q1.info()\n"
   ]
  },
  {
   "cell_type": "markdown",
   "metadata": {},
   "source": [
    "We will group the values of the column \"weight\" in 4 categories:\n",
    "\n",
    "- 110 - 129 lbs\n",
    "- 130 - 159 lbs\n",
    "- 160 - 189 lbs\n",
    "- more than 190 lbs\n",
    "\n",
    "We will convert the Integer values in strings:\n",
    "\n",
    "Exercise:\n",
    "\n",
    "- 1 - Everyday\n",
    "- 2 - 2-3 times a week\n",
    "- 3 - Once a week\n",
    "- 4 - Sometimes\n",
    "- 5 - Never\n",
    "\n",
    "\n",
    "Gender:\n",
    "\n",
    "- 1 - Female\n",
    "- 2 - Male"
   ]
  },
  {
   "cell_type": "code",
   "execution_count": 152,
   "metadata": {},
   "outputs": [
    {
     "data": {
      "text/plain": [
       "weight_category\n",
       "110 - 129 lbs        17\n",
       "130 - 159 lbs        39\n",
       "160 - 189 lbs        37\n",
       "more than 190 lbs    17\n",
       "dtype: int64"
      ]
     },
     "execution_count": 152,
     "metadata": {},
     "output_type": "execute_result"
    }
   ],
   "source": [
    "# Convert the \"weight\" column to numeric values\n",
    "df_q1['weight'] = pd.to_numeric(df_q1['weight'], errors='coerce')\n",
    "\n",
    "# Create boolean conditions for each category\n",
    "cond1 = (110 <= df_q1['weight']) & (df_q1['weight'] <= 129)\n",
    "cond2 = (130 <= df_q1['weight']) & (df_q1['weight'] <= 159)\n",
    "cond3 = (160 <= df_q1['weight']) & (df_q1['weight'] <= 189)\n",
    "cond4 = (df_q1['weight'] >= 190)\n",
    "\n",
    "# Create a new column 'weight_category' based on conditions\n",
    "df_q1['weight_category'] = np.select([cond1, cond2, cond3, cond4],\n",
    "                            [\"110 - 129 lbs\", \"130 - 159 lbs\", \"160 - 189 lbs\", \"more than 190 lbs\"],\n",
    "                            default='Unknown')\n",
    "df_q1.groupby(['weight_category']).size()"
   ]
  },
  {
   "cell_type": "code",
   "execution_count": 153,
   "metadata": {},
   "outputs": [
    {
     "data": {
      "text/plain": [
       "Gender  Gender_name\n",
       "1       Female         64\n",
       "2       Male           46\n",
       "dtype: int64"
      ]
     },
     "execution_count": 153,
     "metadata": {},
     "output_type": "execute_result"
    }
   ],
   "source": [
    "#Replace values in Gender\n",
    "df_q1['Gender_name'] = df_q1['Gender'].replace({1: 'Female', 2: 'Male'})\n",
    "df_q1.groupby(['Gender', 'Gender_name']).size()"
   ]
  },
  {
   "cell_type": "code",
   "execution_count": 154,
   "metadata": {},
   "outputs": [
    {
     "data": {
      "text/plain": [
       "exercise  exercise_category \n",
       "1.0       Everyday              57\n",
       "2.0       2 - 3 times a week    42\n",
       "3.0       Once a week           11\n",
       "dtype: int64"
      ]
     },
     "execution_count": 154,
     "metadata": {},
     "output_type": "execute_result"
    }
   ],
   "source": [
    "#Create a column called exercise_category. \n",
    "df_q1['exercise_category'] = df_q1['exercise'].replace({1: 'Everyday', 2: '2 - 3 times a week', 3: 'Once a week', 4:'Sometimes', 5:'Never'})\n",
    "df_q1.groupby(['exercise', 'exercise_category']).size()"
   ]
  },
  {
   "cell_type": "code",
   "execution_count": 155,
   "metadata": {},
   "outputs": [
    {
     "name": "stdout",
     "output_type": "stream",
     "text": [
      "     Gender  exercise  weight    weight_category Gender_name  \\\n",
      "0         2       1.0     187      160 - 189 lbs        Male   \n",
      "1         1       1.0     155      130 - 159 lbs      Female   \n",
      "3         1       3.0     240  more than 190 lbs      Female   \n",
      "4         1       1.0     190  more than 190 lbs      Female   \n",
      "5         1       2.0     190  more than 190 lbs      Female   \n",
      "..      ...       ...     ...                ...         ...   \n",
      "120       1       2.0     156      130 - 159 lbs      Female   \n",
      "121       1       2.0     180      160 - 189 lbs      Female   \n",
      "122       1       2.0     120      110 - 129 lbs      Female   \n",
      "123       2       1.0     135      130 - 159 lbs        Male   \n",
      "124       1       2.0     135      130 - 159 lbs      Female   \n",
      "\n",
      "      exercise_category  \n",
      "0              Everyday  \n",
      "1              Everyday  \n",
      "3           Once a week  \n",
      "4              Everyday  \n",
      "5    2 - 3 times a week  \n",
      "..                  ...  \n",
      "120  2 - 3 times a week  \n",
      "121  2 - 3 times a week  \n",
      "122  2 - 3 times a week  \n",
      "123            Everyday  \n",
      "124  2 - 3 times a week  \n",
      "\n",
      "[110 rows x 6 columns]\n"
     ]
    }
   ],
   "source": [
    "print(df_q1)"
   ]
  },
  {
   "cell_type": "markdown",
   "metadata": {},
   "source": [
    "Question 2: Do factors such as Employment, Income, and Living on or off campus affect the frequency of eating out for college students?"
   ]
  },
  {
   "cell_type": "code",
   "execution_count": 156,
   "metadata": {},
   "outputs": [],
   "source": [
    "#Question 2\n",
    "df_q2 = df[['eating_out', 'employment', 'income', 'on_off_campus']]"
   ]
  },
  {
   "cell_type": "code",
   "execution_count": 157,
   "metadata": {},
   "outputs": [
    {
     "data": {
      "text/plain": [
       "<Axes: >"
      ]
     },
     "execution_count": 157,
     "metadata": {},
     "output_type": "execute_result"
    },
    {
     "data": {
      "image/png": "[encoded data removed]",
      "text/plain": [
       "<Figure size 2500x1000 with 2 Axes>"
      ]
     },
     "metadata": {},
     "output_type": "display_data"
    }
   ],
   "source": [
    "#identify the NaN distribution\n",
    "msno.matrix(df_q2[df_q2.columns[df_q2.isnull().any()]])"
   ]
  },
  {
   "cell_type": "code",
   "execution_count": 158,
   "metadata": {},
   "outputs": [
    {
     "name": "stdout",
     "output_type": "stream",
     "text": [
      "employment       9\n",
      "income           1\n",
      "on_off_campus    1\n",
      "dtype: int64\n"
     ]
    }
   ],
   "source": [
    "# Filter and print only columns with at least one null value\n",
    "null_value = df_q2.isnull().sum()\n",
    "null_value_1 = null_value[null_value > 0]\n",
    "print(null_value_1)"
   ]
  },
  {
   "cell_type": "code",
   "execution_count": 159,
   "metadata": {},
   "outputs": [],
   "source": [
    "# drop all the rows that have at least one Nan value\n",
    "df_q2 = df_q2.copy()\n",
    "df_q2.dropna(inplace=True)\n"
   ]
  },
  {
   "cell_type": "code",
   "execution_count": 160,
   "metadata": {},
   "outputs": [
    {
     "name": "stdout",
     "output_type": "stream",
     "text": [
      "     eating_out  employment  income  on_off_campus\n",
      "0             3         3.0     5.0            1.0\n",
      "1             2         2.0     4.0            1.0\n",
      "2             2         3.0     6.0            2.0\n",
      "3             2         3.0     6.0            1.0\n",
      "4             2         2.0     6.0            1.0\n",
      "..          ...         ...     ...            ...\n",
      "120           2         1.0     4.0            3.0\n",
      "121           4         3.0     2.0            1.0\n",
      "122           3         3.0     2.0            1.0\n",
      "123           5         2.0     4.0            1.0\n",
      "124           1         2.0     5.0            1.0\n",
      "\n",
      "[115 rows x 4 columns]\n"
     ]
    }
   ],
   "source": [
    "print(df_q2)"
   ]
  },
  {
   "cell_type": "markdown",
   "metadata": {},
   "source": [
    "We also need to replace all integer responses for eating_out and employment, income, on_off_campus to Stings.\n",
    "\n",
    "Eating_out:\n",
    "\n",
    "- 1 - Never\n",
    "- 2 - 1-2 times\n",
    "- 3 - 2-3 times\n",
    "- 4 - 3-4 times\n",
    "- 5 - Everyday\n",
    "\n",
    "Employment:\n",
    "\n",
    "- 1 - Full time\n",
    "- 2 - Part time\n",
    "- 3 - Unemployed\n",
    "\n",
    "Income:\n",
    "\n",
    "- 1 - less than $15k\n",
    "- 2 - >$15k - $30k\n",
    "- 3 - >$30k - $50k\n",
    "- 4 - >$50k - $70k\n",
    "- 5 - >$70k - $100k\n",
    "- 6 - more than $100k\n",
    "\n",
    "On_off_campus:\n",
    "\n",
    "- 1 - On campus\n",
    "- 2 to 4 - Off campus"
   ]
  },
  {
   "cell_type": "code",
   "execution_count": 161,
   "metadata": {},
   "outputs": [
    {
     "name": "stdout",
     "output_type": "stream",
     "text": [
      "<class 'pandas.core.frame.DataFrame'>\n",
      "Index: 115 entries, 0 to 124\n",
      "Data columns (total 4 columns):\n",
      " #   Column         Non-Null Count  Dtype  \n",
      "---  ------         --------------  -----  \n",
      " 0   eating_out     115 non-null    int64  \n",
      " 1   employment     115 non-null    float64\n",
      " 2   income         115 non-null    float64\n",
      " 3   on_off_campus  115 non-null    float64\n",
      "dtypes: float64(3), int64(1)\n",
      "memory usage: 4.5 KB\n"
     ]
    }
   ],
   "source": [
    "#check the data types of the coloumns\n",
    "df_q2.info()"
   ]
  },
  {
   "cell_type": "code",
   "execution_count": 162,
   "metadata": {},
   "outputs": [
    {
     "data": {
      "text/plain": [
       "eating_out\n",
       "1 -2 times    56\n",
       "2 -3 times    21\n",
       "3 -4 times    13\n",
       "Everyday      10\n",
       "Never         15\n",
       "dtype: int64"
      ]
     },
     "execution_count": 162,
     "metadata": {},
     "output_type": "execute_result"
    }
   ],
   "source": [
    "df_q2['eating_out'] = df_q2['eating_out'].replace({1: 'Never', 2: '1 -2 times', 3: '2 -3 times', 4:'3 -4 times', 5:'Everyday'})\n",
    "df_q2.groupby(['eating_out']).size()"
   ]
  },
  {
   "cell_type": "code",
   "execution_count": 163,
   "metadata": {},
   "outputs": [
    {
     "data": {
      "text/plain": [
       "employment\n",
       "Full time      2\n",
       "Part time     60\n",
       "Umemployed    53\n",
       "dtype: int64"
      ]
     },
     "execution_count": 163,
     "metadata": {},
     "output_type": "execute_result"
    }
   ],
   "source": [
    "df_q2['employment'] = df_q2['employment'].replace({1: 'Full time', 2: 'Part time', 3: 'Umemployed'})\n",
    "df_q2.groupby(['employment']).size()"
   ]
  },
  {
   "cell_type": "code",
   "execution_count": 164,
   "metadata": {},
   "outputs": [
    {
     "name": "stdout",
     "output_type": "stream",
     "text": [
      "[5. 4. 6. 1. 3. 2.]\n",
      "float64\n"
     ]
    }
   ],
   "source": [
    "print(df_q2['income'].unique())\n",
    "print(df_q2['income'].dtype)"
   ]
  },
  {
   "cell_type": "code",
   "execution_count": 165,
   "metadata": {},
   "outputs": [
    {
     "data": {
      "text/plain": [
       "income  income_category\n",
       "1.0     less than $15k      4\n",
       "2.0     >$15k - $30k        7\n",
       "3.0     >$30k - $50k       14\n",
       "4.0     >$50k - $70k       19\n",
       "5.0     >$70k - $100k      32\n",
       "6.0     more than $100k    39\n",
       "dtype: int64"
      ]
     },
     "execution_count": 165,
     "metadata": {},
     "output_type": "execute_result"
    }
   ],
   "source": [
    "df_q2['income_category'] = df_q2['income'].replace({1: 'less than $15k', 2: '>$15k - $30k', 3: '>$30k - $50k', 4:'>$50k - $70k' , 5:'>$70k - $100k', 6:'more than $100k' })\n",
    "df_q2.groupby(['income','income_category']).size()"
   ]
  },
  {
   "cell_type": "code",
   "execution_count": 166,
   "metadata": {},
   "outputs": [
    {
     "data": {
      "text/plain": [
       "living_on_off_campus  on_off_campus\n",
       "Off campus            2.0              15\n",
       "                      3.0               8\n",
       "                      4.0               2\n",
       "On campus             1.0              90\n",
       "dtype: int64"
      ]
     },
     "execution_count": 166,
     "metadata": {},
     "output_type": "execute_result"
    }
   ],
   "source": [
    "df_q2['living_on_off_campus'] = df_q2['on_off_campus'].replace({1: 'On campus', 2: 'Off campus', 3: 'Off campus', 4:'Off campus'})\n",
    "df_q2.groupby(['living_on_off_campus','on_off_campus']).size()"
   ]
  },
  {
   "cell_type": "markdown",
   "metadata": {},
   "source": [
    "Question 3: Does students who exercise regularly more likely to make better food choices?"
   ]
  },
  {
   "cell_type": "code",
   "execution_count": 167,
   "metadata": {},
   "outputs": [],
   "source": [
    "#Question 3\n",
    "df_q3 = df[['exercise', 'nutritional_check', 'veggies_day', 'fruit_day']]"
   ]
  },
  {
   "cell_type": "code",
   "execution_count": 168,
   "metadata": {},
   "outputs": [
    {
     "name": "stdout",
     "output_type": "stream",
     "text": [
      "     exercise  nutritional_check  veggies_day  fruit_day\n",
      "0         1.0                  5            5          5\n",
      "1         1.0                  4            4          4\n",
      "2         2.0                  4            5          5\n",
      "3         3.0                  2            3          4\n",
      "4         1.0                  3            4          4\n",
      "..        ...                ...          ...        ...\n",
      "120       2.0                  5            5          5\n",
      "121       2.0                  3            5          4\n",
      "122       2.0                  3            4          4\n",
      "123       1.0                  4            3          5\n",
      "124       2.0                  5            4          3\n",
      "\n",
      "[125 rows x 4 columns]\n"
     ]
    }
   ],
   "source": [
    "print(df_q3)"
   ]
  },
  {
   "cell_type": "code",
   "execution_count": 169,
   "metadata": {},
   "outputs": [
    {
     "data": {
      "text/plain": [
       "<Axes: >"
      ]
     },
     "execution_count": 169,
     "metadata": {},
     "output_type": "execute_result"
    },
    {
     "data": {
      "image/png": "[encoded data removed]",
      "text/plain": [
       "<Figure size 2500x1000 with 2 Axes>"
      ]
     },
     "metadata": {},
     "output_type": "display_data"
    }
   ],
   "source": [
    "#identify the NaN distribution\n",
    "msno.matrix(df_q3[df_q3.columns[df_q3.isnull().any()]])"
   ]
  },
  {
   "cell_type": "code",
   "execution_count": 170,
   "metadata": {},
   "outputs": [],
   "source": [
    "df_q3 = df_q3.copy()\n",
    "df_q3.dropna(inplace=True)"
   ]
  },
  {
   "cell_type": "markdown",
   "metadata": {},
   "source": [
    "We also need to replace all integer respond for exercise, nutritional_check, veggie_day, fruit_day to Stings.\n",
    "\n",
    "Exercise:\n",
    "\n",
    "- 1 - Everyday\n",
    "- 2 - 2 -3 times a week\n",
    "- 3 - Once a week\n",
    "- 4 - Sometimes\n",
    "- 5 - Never\n",
    "\n",
    "Nutritional_check:\n",
    "\n",
    "- 1 - Never\n",
    "- 2 - On certain products\n",
    "- 3 - Very rarely\n",
    "- 4 - On most products\n",
    "- 5 - On everything\n",
    "\n",
    "Veggie_day & fruit_day:\n",
    "\n",
    "- 1 - Very unlikely\n",
    "- 2 - Unlikely\n",
    "- 3 - Neutral\n",
    "- 4 - Likely\n",
    "- 5 - Very likely"
   ]
  },
  {
   "cell_type": "code",
   "execution_count": 171,
   "metadata": {},
   "outputs": [
    {
     "data": {
      "text/plain": [
       "exercise  exercise_category \n",
       "1.0       Everyday              57\n",
       "2.0       2 - 3 times a week    44\n",
       "3.0       Once a week           11\n",
       "dtype: int64"
      ]
     },
     "execution_count": 171,
     "metadata": {},
     "output_type": "execute_result"
    }
   ],
   "source": [
    "df_q3['exercise_category'] = df_q3['exercise'].replace({1: 'Everyday', 2: '2 - 3 times a week', 3: 'Once a week', 4:'Sometimes', 5:'Never'})\n",
    "df_q3.groupby(['exercise', 'exercise_category']).size()"
   ]
  },
  {
   "cell_type": "code",
   "execution_count": 172,
   "metadata": {},
   "outputs": [
    {
     "data": {
      "text/plain": [
       "nutritional_check  nutritional_check_category\n",
       "1                  Never                          8\n",
       "2                  On certain products           30\n",
       "3                  Very rarely                   18\n",
       "4                  On most products              40\n",
       "5                  On everything                 16\n",
       "dtype: int64"
      ]
     },
     "execution_count": 172,
     "metadata": {},
     "output_type": "execute_result"
    }
   ],
   "source": [
    "df_q3['nutritional_check_category'] = df_q3['nutritional_check'].replace({1: 'Never', 2: 'On certain products', 3: 'Very rarely', 4:'On most products', 5:'On everything'})\n",
    "df_q3.groupby(['nutritional_check', 'nutritional_check_category']).size()"
   ]
  },
  {
   "cell_type": "code",
   "execution_count": 173,
   "metadata": {},
   "outputs": [
    {
     "data": {
      "text/plain": [
       "veggies_day  veggies_day_category\n",
       "1            Very unlikely            3\n",
       "2            Unlikely                11\n",
       "3            Neutral                 19\n",
       "4            Likely                  31\n",
       "5            Very likely             48\n",
       "dtype: int64"
      ]
     },
     "execution_count": 173,
     "metadata": {},
     "output_type": "execute_result"
    }
   ],
   "source": [
    "df_q3['veggies_day_category'] = df_q3['veggies_day'].replace({1: 'Very unlikely', 2: 'Unlikely', 3: 'Neutral', 4:'Likely', 5:'Very likely'})\n",
    "df_q3.groupby(['veggies_day', 'veggies_day_category']).size()"
   ]
  },
  {
   "cell_type": "code",
   "execution_count": 174,
   "metadata": {},
   "outputs": [
    {
     "data": {
      "text/plain": [
       "fruit_day  fruit_day_category\n",
       "1          Very unlikely          1\n",
       "2          Unlikely               4\n",
       "3          Neutral               23\n",
       "4          Likely                26\n",
       "5          Very likely           58\n",
       "dtype: int64"
      ]
     },
     "execution_count": 174,
     "metadata": {},
     "output_type": "execute_result"
    }
   ],
   "source": [
    "df_q3['fruit_day_category'] = df_q3['fruit_day'].replace({1: 'Very unlikely', 2: 'Unlikely', 3: 'Neutral', 4:'Likely', 5:'Very likely'})\n",
    "df_q3.groupby(['fruit_day', 'fruit_day_category']).size()"
   ]
  },
  {
   "cell_type": "markdown",
   "metadata": {},
   "source": [
    "Step 3 Analysis"
   ]
  },
  {
   "cell_type": "markdown",
   "metadata": {},
   "source": [
    "Question 1: Does exercising regularly affect the weight of an individual?"
   ]
  },
  {
   "cell_type": "markdown",
   "metadata": {},
   "source": [
    "Let's make weight distribution for each gender.\n",
    "\n",
    "H0: we can conclude that exercise frequency affects the weight of male/female college students in our study."
   ]
  },
  {
   "cell_type": "code",
   "execution_count": 175,
   "metadata": {},
   "outputs": [
    {
     "name": "stdout",
     "output_type": "stream",
     "text": [
      "The p-value is 0.6084456575538633 :we ACCEPT H0: we can conclude that exercise frequency\n",
      "does not affect the weight of male college students in our study.\n"
     ]
    }
   ],
   "source": [
    "male_df = df_q1[df_q1['Gender_name'] == 'Male']\n",
    "\n",
    "# Create a contingency table\n",
    "contingency_table = pd.crosstab(male_df['exercise_category'], male_df['weight_category'])\n",
    "\n",
    "# Perform the Chi-Square test for independence\n",
    "chi2, p, _, _ = chi2_contingency(contingency_table)\n",
    "\n",
    "#Set our alpha significant level\n",
    "alpha = 0.05  \n",
    "\n",
    "# Check if the p-value is less than alpha to determine the result\n",
    "if p < alpha:\n",
    "    print(\"The p-value is\", p,\": we REJECT H0: we can conclude that exercise frequency\\naffects weight of male college students in our study.\")\n",
    "else:\n",
    "    print(\"The p-value is\", p, \": we ACCEPT H0: we can conclude that exercise frequency\\ndoes not affect weight of male college students in our study.\")\n"
   ]
  },
  {
   "cell_type": "code",
   "execution_count": 176,
   "metadata": {},
   "outputs": [
    {
     "name": "stdout",
     "output_type": "stream",
     "text": [
      "The p-value is 0.5923567430875245 :we ACCEPT H0: we can conclude that exercise frequency\n",
      "does not affect weight of female college students in our study.\n"
     ]
    }
   ],
   "source": [
    "Female_df = df_q1[df_q1['Gender_name'] == 'Female']\n",
    "\n",
    "# Create a contingency table\n",
    "contingency_table = pd.crosstab(Female_df['exercise_category'], Female_df['weight_category'])\n",
    "\n",
    "# Perform the Chi-Square test for independence\n",
    "chi2, p, _, _ = chi2_contingency(contingency_table)\n",
    "\n",
    "#Set our alpha significant level\n",
    "alpha = 0.05  \n",
    "\n",
    "# Check if the p-value is less than alpha to determine the result\n",
    "if p < alpha:\n",
    "    print(\"The p-value is\", p,\":we REJECT H0: we can conclude that exercise frequency\\naffects weight of female college students in our study.\")\n",
    "else:\n",
    "    print(\"The p-value is\", p, \":we ACCEPT H0: we can conclude that exercise frequency\\ndoes not affect weight of female college students in our study.\")\n"
   ]
  },
  {
   "cell_type": "markdown",
   "metadata": {},
   "source": [
    "Question 2: Does factors such as: Employment, Income, and Living on or off campus affect the frequency of eating out for college students?\n"
   ]
  },
  {
   "cell_type": "markdown",
   "metadata": {},
   "source": [
    "Test of independence using Chi-Square test. alpha value = 0.05\n",
    "\n",
    "H0: Factor(employment/income/living on or off campus) has no statistical influence to the frequency of college student eating out.\n",
    "\n",
    "Employment:\n",
    "\n",
    "H0: employment status of a college student affects the frequency of eating out."
   ]
  },
  {
   "cell_type": "code",
   "execution_count": 177,
   "metadata": {},
   "outputs": [
    {
     "name": "stdout",
     "output_type": "stream",
     "text": [
      "The p-value is 0.6112438708562038 :we ACCEPT H0: employment status of a college student\n",
      "does not affect the frequency of eating out.\n"
     ]
    }
   ],
   "source": [
    "# Create a contingency table\n",
    "contingency_table = pd.crosstab(df_q2['employment'], df_q2['eating_out'])\n",
    "\n",
    "# Perform the Chi-Square test for independence\n",
    "chi2, p, _, _ = chi2_contingency(contingency_table)\n",
    "\n",
    "#Set our alpha significant level\n",
    "alpha = 0.05  \n",
    "\n",
    "# Check if the p-value is less than alpha to determine the result\n",
    "if p < alpha:\n",
    "    print(\"The p-value is\", p,\":we REJECT H0: employment status of a college student\\naffects the frequency of eating out.\")\n",
    "else:\n",
    "    print(\"The p-value is\", p, \":we ACCEPT H0: employment status of a college student\\ndoes not affect the frequency of eating out.\")\n"
   ]
  },
  {
   "cell_type": "markdown",
   "metadata": {},
   "source": [
    "Income:\n",
    "\n",
    "H0: income of a college student affects the frequency of eating out."
   ]
  },
  {
   "cell_type": "code",
   "execution_count": 178,
   "metadata": {},
   "outputs": [
    {
     "name": "stdout",
     "output_type": "stream",
     "text": [
      "The p-value is 0.6728225879134598 :we ACCEPT H0: income of a college student\n",
      " does not affect the frequency of eating out.\n"
     ]
    }
   ],
   "source": [
    "# Create a contingency table\n",
    "contingency_table = pd.crosstab(df_q2['income_category'], df_q2['eating_out'])\n",
    "\n",
    "# Perform the Chi-Square test for independence\n",
    "chi2, p, _, _ = chi2_contingency(contingency_table)\n",
    "\n",
    "#Set our alpha significant level\n",
    "alpha = 0.05  \n",
    "\n",
    "# Check if the p-value is less than alpha to determine the result\n",
    "if p < alpha:\n",
    "    print(\"The p-value is\", p,\":we REJECT H0: income of a college student\\n affects the frequency of eating out.\")\n",
    "else:\n",
    "    print(\"The p-value is\", p, \":we ACCEPT H0: income of a college student\\n does not affect the frequency of eating out.\")\n"
   ]
  },
  {
   "cell_type": "markdown",
   "metadata": {},
   "source": [
    "Living on and off campus:\n",
    "\n",
    "H0: living on or off campus affects the frequency of eating out."
   ]
  },
  {
   "cell_type": "code",
   "execution_count": 179,
   "metadata": {},
   "outputs": [
    {
     "name": "stdout",
     "output_type": "stream",
     "text": [
      "The p-value is 0.197502080736209 :we ACCEPT H0: living on or off campus does not affect\n",
      " the frequency of eating out.\n"
     ]
    }
   ],
   "source": [
    "# Create a contingency table\n",
    "contingency_table = pd.crosstab(df_q2['living_on_off_campus'], df_q2['eating_out'])\n",
    "\n",
    "# Perform the Chi-Square test for independence\n",
    "chi2, p, _, _ = chi2_contingency(contingency_table)\n",
    "\n",
    "#Set our alpha significant level\n",
    "alpha = 0.05  \n",
    "\n",
    "# Check if the p-value is less than alpha to determine the result\n",
    "if p < alpha:\n",
    "    print(\"The p-value is\", p,\":we REJECT H0: living on or off campus affects\\nthe frequency of eating out.\")\n",
    "else:\n",
    "    print(\"The p-value is\", p, \":we ACCEPT H0: living on or off campus does not affect\\n the frequency of eating out.\")"
   ]
  },
  {
   "cell_type": "markdown",
   "metadata": {},
   "source": [
    "Question 3: Does students who exercise regularly more likely to make better food choices?"
   ]
  },
  {
   "cell_type": "markdown",
   "metadata": {},
   "source": [
    "H0: Students who exercise regularly are more likely to make better food choices."
   ]
  },
  {
   "cell_type": "markdown",
   "metadata": {},
   "source": [
    "Check of nutritional labels exercise regularly:\n",
    "\n",
    "H0: students who exercise regularly checks nutritional labels of food more regularly."
   ]
  },
  {
   "cell_type": "code",
   "execution_count": 180,
   "metadata": {},
   "outputs": [
    {
     "name": "stdout",
     "output_type": "stream",
     "text": [
      "The p-value is 0.13812538434204064 :we ACCEPT H0: students who exercise regularly does not check nutritional labels of food more regularly.\n"
     ]
    }
   ],
   "source": [
    "# Create a contingency table\n",
    "contingency_table = pd.crosstab(df_q3['nutritional_check_category'], df_q3['exercise_category'])\n",
    "\n",
    "# Perform the Chi-Square test for independence\n",
    "chi2, p, _, _ = chi2_contingency(contingency_table)\n",
    "\n",
    "#Set our alpha significant level\n",
    "alpha = 0.05  \n",
    "\n",
    "# Check if the p-value is less than alpha to determine the result\n",
    "if p < alpha:\n",
    "    print(\"The p-value is\", p,\":we REJECT H0: students who exercise regularly check nutritional labels of food more regularly.\")\n",
    "else:\n",
    "    print(\"The p-value is\", p, \":we ACCEPT H0: students who exercise regularly does not check nutritional labels of food more regularly.\")"
   ]
  },
  {
   "cell_type": "markdown",
   "metadata": {},
   "source": [
    "Consume of vegetable vs exercise regularly\n",
    "\n",
    "H0: students who exercise regularly don't consume more vegetables."
   ]
  },
  {
   "cell_type": "code",
   "execution_count": 181,
   "metadata": {},
   "outputs": [
    {
     "name": "stdout",
     "output_type": "stream",
     "text": [
      "The p-value is 0.13660826828417633 :we ACCEPT H0: students who exercise regularly consume more vegetables.\n"
     ]
    }
   ],
   "source": [
    "# Create a contingency table\n",
    "contingency_table = pd.crosstab(df_q3['veggies_day_category'], df_q3['exercise_category'])\n",
    "\n",
    "# Perform the Chi-Square test for independence\n",
    "chi2, p, _, _ = chi2_contingency(contingency_table)\n",
    "\n",
    "#Set our alpha significant level\n",
    "alpha = 0.05  \n",
    "\n",
    "# Check if the p-value is less than alpha to determine the result\n",
    "if p < alpha:\n",
    "    print(\"The p-value is\", p,\":we REJECT H0: students who exercise regularly don't consume more vegetables.\")\n",
    "else:\n",
    "    print(\"The p-value is\", p, \":we ACCEPT H0: students who exercise regularly consume more vegetables.\")"
   ]
  },
  {
   "cell_type": "markdown",
   "metadata": {},
   "source": [
    "Consume of fruits vs exercise regularly\n",
    "\n",
    "H0: students who exercise regularly do consume more fruits."
   ]
  },
  {
   "cell_type": "code",
   "execution_count": 182,
   "metadata": {},
   "outputs": [
    {
     "name": "stdout",
     "output_type": "stream",
     "text": [
      "The p-value is 0.013562799070912852 :we REJECT H0: students who exercise regularly consume more fruits.\n"
     ]
    }
   ],
   "source": [
    "# Create a contingency table\n",
    "contingency_table = pd.crosstab(df_q3['fruit_day_category'], df_q3['exercise_category'])\n",
    "\n",
    "# Perform the Chi-Square test for independence\n",
    "chi2, p, _, _ = chi2_contingency(contingency_table)\n",
    "\n",
    "#Set our alpha significant level\n",
    "alpha = 0.05  \n",
    "\n",
    "# Check if the p-value is less than alpha to determine the result\n",
    "if p < alpha:\n",
    "    print(\"The p-value is\", p,\":we REJECT H0: students who exercise regularly consume more fruits.\")\n",
    "else:\n",
    "    print(\"The p-value is\", p, \":we ACCEPT H0: students who exercise regularly don't consume more fruits.\")"
   ]
  }
 ],
 "metadata": {
  "kernelspec": {
   "display_name": "Boolean",
   "language": "python",
   "name": "python3"
  },
  "language_info": {
   "codemirror_mode": {
    "name": "ipython",
    "version": 3
   },
   "file_extension": ".py",
   "mimetype": "text/x-python",
   "name": "python",
   "nbconvert_exporter": "python",
   "pygments_lexer": "ipython3",
   "version": "3.8.16"
  }
 },
 "nbformat": 4,
 "nbformat_minor": 2
}
